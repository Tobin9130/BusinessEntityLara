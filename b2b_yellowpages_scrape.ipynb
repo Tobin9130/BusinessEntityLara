{
 "cells": [
  {
   "cell_type": "markdown",
   "metadata": {},
   "source": [
    "## B2B Yellowpages\n",
    "\n",
    "Has additional descriptive information for existing businesses. Will allow us to only scrape what is in Detroit.\n",
    "LARA still adds historical context. That data contains companies that no longer exist"
   ]
  },
  {
   "cell_type": "code",
   "execution_count": null,
   "metadata": {},
   "outputs": [],
   "source": [
    "import requests, os, time, sqlite3\n",
    "from bs4 import BeautifulSoup as bs\n",
    "from IPython.display import display, clear_output\n",
    "\n",
    "import pandas as pd\n",
    "\n",
    "os.chdir('C:\\\\Users\\\\stob1\\\\Desktop\\\\Incremental Detroit\\\\Data projects\\\\Lara_Scrape\\\\')\n",
    "\n",
    "db = 'LaraScrape.sqlite'"
   ]
  },
  {
   "cell_type": "markdown",
   "metadata": {},
   "source": [
    "## Example pages to scrape\n",
    "\n",
    "Believe that the Q & A sections only populate where there are answers. I should surf to make sure I'll be collectin any relevant infomation that I want.\n",
    "\n",
    "Listing of all businesses in Detroit (alphabetical)\n",
    "> https://www.b2byellowpages.com/ls/michigan/detroit-mi-local-services.html\n",
    "> - Maybe map to NAICS at this stage? \n",
    "> - Get overwritten if the listing has an NAICS or SIC code\n",
    "\n",
    "Michigan Brush Manf has information on number of employees & sales data as well as business description. Will need to map to NAICS & SIC\n",
    "> https://www.b2byellowpages.com/company-information/48453896-michigan-brush-manufacturing-co.html\n",
    "\n",
    "Detroit Taco Bar has NAICS and SIC listed\n",
    "> https://www.b2byellowpages.com/company-information/095088317-detroit-taco-bar.html\n"
   ]
  },
  {
   "cell_type": "code",
   "execution_count": null,
   "metadata": {},
   "outputs": [],
   "source": []
  },
  {
   "cell_type": "code",
   "execution_count": null,
   "metadata": {},
   "outputs": [],
   "source": []
  },
  {
   "cell_type": "code",
   "execution_count": null,
   "metadata": {},
   "outputs": [],
   "source": []
  },
  {
   "cell_type": "code",
   "execution_count": null,
   "metadata": {},
   "outputs": [],
   "source": []
  }
 ],
 "metadata": {
  "kernelspec": {
   "display_name": "Python 3",
   "language": "python",
   "name": "python3"
  },
  "language_info": {
   "codemirror_mode": {
    "name": "ipython",
    "version": 3
   },
   "file_extension": ".py",
   "mimetype": "text/x-python",
   "name": "python",
   "nbconvert_exporter": "python",
   "pygments_lexer": "ipython3",
   "version": "3.7.3"
  }
 },
 "nbformat": 4,
 "nbformat_minor": 4
}
