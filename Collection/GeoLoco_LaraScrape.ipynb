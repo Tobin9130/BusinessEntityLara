{
 "cells": [
  {
   "cell_type": "code",
   "execution_count": 1,
   "metadata": {},
   "outputs": [],
   "source": [
    "from arcgis.gis import GIS\n",
    "from arcgis import geocoding\n",
    "\n",
    "import sqlite3\n",
    "from osgeo import ogr\n",
    "import pandas as pd\n",
    "\n",
    "from passwords import arcgis\n",
    "\n",
    "user = arcgis['user']\n",
    "password = arcgis['password']\n",
    "\n",
    "db = 'C:\\\\Users\\\\Sean Tobin\\\\Documents\\\\Data backups\\\\___LaraScrape___.sqlite'"
   ]
  },
  {
   "cell_type": "markdown",
   "metadata": {},
   "source": [
    "#### While working with the whole MSA, the number of coordinates to geocode is a little large for the ?computer? to handle\n",
    "\n",
    "So we're writing each coordinate to text file with the ID and the Coordinate. I'll forgo appending to output list to create pd dataframe in one go. "
   ]
  },
  {
   "cell_type": "code",
   "execution_count": 2,
   "metadata": {},
   "outputs": [
    {
     "name": "stdout",
     "output_type": "stream",
     "text": [
      "183239\n"
     ]
    }
   ],
   "source": [
    "coords_list = pd.read_csv('coords_list.txt', header = None)\n",
    "print(len(coords_list))\n",
    "success_ids = coords_list[0].to_list()\n",
    "skip_these = \"('\" + str(success_ids[0]) + \"','\" + \"','\".join([str(x) for x in success_ids[1:]])+\"')\""
   ]
  },
  {
   "cell_type": "code",
   "execution_count": 3,
   "metadata": {},
   "outputs": [
    {
     "name": "stdout",
     "output_type": "stream",
     "text": [
      "555443\n"
     ]
    },
    {
     "data": {
      "text/html": [
       "<div>\n",
       "<style scoped>\n",
       "    .dataframe tbody tr th:only-of-type {\n",
       "        vertical-align: middle;\n",
       "    }\n",
       "\n",
       "    .dataframe tbody tr th {\n",
       "        vertical-align: top;\n",
       "    }\n",
       "\n",
       "    .dataframe thead th {\n",
       "        text-align: right;\n",
       "    }\n",
       "</style>\n",
       "<table border=\"1\" class=\"dataframe\">\n",
       "  <thead>\n",
       "    <tr style=\"text-align: right;\">\n",
       "      <th></th>\n",
       "      <th>ID_Number</th>\n",
       "      <th>EntityName</th>\n",
       "      <th>EntityType</th>\n",
       "      <th>OrganisationDate</th>\n",
       "      <th>InactiveDate</th>\n",
       "      <th>RevivalDateText</th>\n",
       "      <th>MostRecentAnnualReportYear</th>\n",
       "      <th>Resident_addr</th>\n",
       "    </tr>\n",
       "  </thead>\n",
       "  <tbody>\n",
       "    <tr>\n",
       "      <td>0</td>\n",
       "      <td>800393976</td>\n",
       "      <td>ROSEDALE PARK INVESTORS, INC.</td>\n",
       "      <td>DOMESTIC PROFIT CORPORATION</td>\n",
       "      <td>04/30/1991</td>\n",
       "      <td>09/05/2019</td>\n",
       "      <td>\\n</td>\n",
       "      <td>2019</td>\n",
       "      <td>19395 STRATHCONA DETROIT MI 48203</td>\n",
       "    </tr>\n",
       "    <tr>\n",
       "      <td>1</td>\n",
       "      <td>800393979</td>\n",
       "      <td>TELECOM TECH, INC.</td>\n",
       "      <td>DOMESTIC PROFIT CORPORATION</td>\n",
       "      <td>03/12/1996</td>\n",
       "      <td>07/15/1999</td>\n",
       "      <td>\\n</td>\n",
       "      <td></td>\n",
       "      <td>522 SMITH BIRMINGHAM MI 48009</td>\n",
       "    </tr>\n",
       "    <tr>\n",
       "      <td>2</td>\n",
       "      <td>800393980</td>\n",
       "      <td>IWC INVESTMENTS, INC.</td>\n",
       "      <td>DOMESTIC PROFIT CORPORATION</td>\n",
       "      <td>03/24/2000</td>\n",
       "      <td>07/15/2010</td>\n",
       "      <td>\\n</td>\n",
       "      <td>2007</td>\n",
       "      <td>12838 GAVEL DETROIT MI 48227</td>\n",
       "    </tr>\n",
       "    <tr>\n",
       "      <td>3</td>\n",
       "      <td>800393982</td>\n",
       "      <td>MORGAN'S GARAGE, INC.</td>\n",
       "      <td>DOMESTIC PROFIT CORPORATION</td>\n",
       "      <td>03/12/1996</td>\n",
       "      <td>None</td>\n",
       "      <td>\\n</td>\n",
       "      <td>2019</td>\n",
       "      <td>828 SYMES ROYAL OAK MI 48067</td>\n",
       "    </tr>\n",
       "    <tr>\n",
       "      <td>4</td>\n",
       "      <td>800393986</td>\n",
       "      <td>WESTWOOD IMPORTING COMPANY OF MICHIGAN, INC.</td>\n",
       "      <td>DOMESTIC PROFIT CORPORATION</td>\n",
       "      <td>03/12/1996</td>\n",
       "      <td>07/15/1999</td>\n",
       "      <td>\\n</td>\n",
       "      <td></td>\n",
       "      <td>28411 NORTHWESTERN HWY #925 SOUTHFIELD MI 48034</td>\n",
       "    </tr>\n",
       "  </tbody>\n",
       "</table>\n",
       "</div>"
      ],
      "text/plain": [
       "   ID_Number                                    EntityName  \\\n",
       "0  800393976                 ROSEDALE PARK INVESTORS, INC.   \n",
       "1  800393979                            TELECOM TECH, INC.   \n",
       "2  800393980                         IWC INVESTMENTS, INC.   \n",
       "3  800393982                         MORGAN'S GARAGE, INC.   \n",
       "4  800393986  WESTWOOD IMPORTING COMPANY OF MICHIGAN, INC.   \n",
       "\n",
       "                    EntityType OrganisationDate InactiveDate RevivalDateText  \\\n",
       "0  DOMESTIC PROFIT CORPORATION       04/30/1991   09/05/2019              \\n   \n",
       "1  DOMESTIC PROFIT CORPORATION       03/12/1996   07/15/1999              \\n   \n",
       "2  DOMESTIC PROFIT CORPORATION       03/24/2000   07/15/2010              \\n   \n",
       "3  DOMESTIC PROFIT CORPORATION       03/12/1996         None              \\n   \n",
       "4  DOMESTIC PROFIT CORPORATION       03/12/1996   07/15/1999              \\n   \n",
       "\n",
       "  MostRecentAnnualReportYear                                    Resident_addr  \n",
       "0                       2019                19395 STRATHCONA DETROIT MI 48203  \n",
       "1                                               522 SMITH BIRMINGHAM MI 48009  \n",
       "2                       2007                     12838 GAVEL DETROIT MI 48227  \n",
       "3                       2019                     828 SYMES ROYAL OAK MI 48067  \n",
       "4                             28411 NORTHWESTERN HWY #925 SOUTHFIELD MI 48034  "
      ]
     },
     "execution_count": 3,
     "metadata": {},
     "output_type": "execute_result"
    }
   ],
   "source": [
    "columns = ['ID_Number','EntityName','EntityType','OrganisationDate','InactiveDate','RevivalDateText','MostRecentAnnualReportYear', 'Resident_addr']\n",
    "\n",
    "conn = sqlite3.connect(db)\n",
    "c = conn.cursor()\n",
    "c.execute('''Select\n",
    "                    DISTINCT ID_Number,\n",
    "                    EntityName,\n",
    "                    EntityType,\n",
    "                    OrganisationDate,\n",
    "                    InactiveDate,\n",
    "                    RevivalDateText,\n",
    "                    MostRecentAnnualReportYear,\n",
    "                    ResidentStreet ||\" \" || ResidentCity ||\" \"|| ResidentState||\" \" || ResidentZip as Resident_addr\n",
    "                FROM LaraBusinessClean\n",
    "                Where ResidentCity in ('AUBURN HILLS','BERKLEY','BIRMINGHAM','BLOOMFIELD HILLS','CLARKSTON','CLAWSON','FARMINGTON',\n",
    "                             'FARMINGTON HILLS','FENTON','FERNDALE','HAZEL PARK','HUNTINGTON WOODS','KEEGO HARBOR','LAKE ANGELUS',\n",
    "                             'LATHRUP VILLAGE','MADISON HEIGHTS','NORTHVILLE','NOVI','OAK PARK','ORCHARD LAKE VILLAGE','PLEASANT RIDGE',\n",
    "                             'PONTIAC','ROCHESTER','ROCHESTER HILLS','ROYAL OAK','SOUTH LYON','SOUTHFIELD','SYLVAN LAKE',\n",
    "                             'TROY','WALLED LAKE','WIXOM','CENTER LINE','EASTPOINTE','EAST DETROIT','FRASER','GROSSE POINTE SHORES',\n",
    "                             'MEMPHIS','MOUNT CLEMENS','NEW BALTIMORE','RICHMOND','ROSEVILLE','ST. CLAIR SHORES','STERLING HEIGHTS',\n",
    "                             'UTICA','WARREN','BRIGHTON','FENTON','HOWELL','ALGONAC','MARINE CITY','MARYSVILLE','MEMPHIS','PORT HURON',\n",
    "                             'RICHMOND','ST. CLAIR','YALE','BROWN CITY','IMLAY CITY','LAPEER','ALLEN PARK','BELLEVILLE','DEARBORN HEIGHTS',\n",
    "                             'DEARBORN','DETROIT','ECORSE','FLAT ROCK','GARDEN CITY','GIBRALTAR','GROSSE POINTE','GROSSE POINTE FARMS',\n",
    "                             'GROSSE POINTE PARK','GROSSE POINTE SHORES','GROSSE POINTE WOODS','HAMTRAMCK','HARPER WOODS','HIGHLAND PARK',\n",
    "                             'INKSTER','LINCOLN PARK','LIVONIA','MELVINDALE','NORTHVILLE','PLYMOUTH','RIVER ROUGE','RIVERVIEW','ROCKWOOD',\n",
    "                             'ROMULUS','SOUTHGATE','TAYLOR','TRENTON','WAYNE','WESTLAND','WOODHAVEN','WYANDOTTE')\n",
    "                        AND ID_Number NOT IN ''' + skip_these)  \n",
    "\n",
    "df = c.fetchall()\n",
    "conn.close()\n",
    "\n",
    "data = pd.DataFrame(df, columns = columns)\n",
    "print(len(data))\n",
    "data.head()"
   ]
  },
  {
   "cell_type": "code",
   "execution_count": 4,
   "metadata": {},
   "outputs": [
    {
     "data": {
      "text/plain": [
       "[<Geocoder url:\"http://gis.detroitmi.gov/arcgis/rest/services/DoIT/CompositeGeocoder/GeocodeServer\">,\n",
       " <Geocoder url:\"http://gis.detroitmi.gov/arcgis/rest/services/DoIT/AddressPointGeocoder/GeocodeServer\">,\n",
       " <Geocoder url:\"http://gis.detroitmi.gov/arcgis/rest/services/DoIT/StreetCenterlineGeocoder/GeocodeServer\">,\n",
       " <Geocoder url:\"https://geocode.arcgis.com/arcgis/rest/services/World/GeocodeServer\">]"
      ]
     },
     "execution_count": 4,
     "metadata": {},
     "output_type": "execute_result"
    }
   ],
   "source": [
    "my_gis = GIS(url = 'http://detroitmi.maps.arcgis.com/', username= user, password = password)\n",
    "# List GeoCoders available to me \n",
    "GeoCode = geocoding.get_geocoders(my_gis)\n",
    "geocoding.get_geocoders(my_gis)"
   ]
  },
  {
   "cell_type": "code",
   "execution_count": 5,
   "metadata": {},
   "outputs": [],
   "source": [
    "bar = data.Resident_addr.to_list()"
   ]
  },
  {
   "cell_type": "code",
   "execution_count": 6,
   "metadata": {},
   "outputs": [
    {
     "data": {
      "text/plain": [
       "555443"
      ]
     },
     "execution_count": 6,
     "metadata": {},
     "output_type": "execute_result"
    }
   ],
   "source": [
    "len(data.Resident_addr)"
   ]
  },
  {
   "cell_type": "code",
   "execution_count": null,
   "metadata": {},
   "outputs": [],
   "source": [
    "addresses = data['Resident_addr']\n",
    "ID_numbers = data['ID_Number']\n",
    "\n",
    "#Output_list = [] Think this might be why the process eventually fails.\n",
    "\n",
    "# Create a point\n",
    "point = ogr.Geometry(ogr.wkbPoint)\n",
    "\n",
    "# Open file to dump the coords into with the business ID.\n",
    "with open('coords_list.txt',\"a\") as filehandle:\n",
    "    \n",
    "    for address, ID in zip(addresses,ID_numbers):\n",
    "        test_coords = geocoding.geocode(address, geocoder = GeoCode[-1])\n",
    "\n",
    "        # Grab a list of scores from the test_coords\n",
    "        score = [x['score'] for x in test_coords]\n",
    "\n",
    "        # Use index of max score to create OGR Point object\n",
    "        point.AddPoint(test_coords[score.index(max(score))]['location']['x'],test_coords[score.index(max(score))]['location']['y'])\n",
    "        \n",
    "        # Append new wkt point to output\n",
    "        #Output_list.append(point.ExportToWkt())\n",
    "        filehandle.write('%s\\n' % str(ID + ',' + point.ExportToWkt()))"
   ]
  },
  {
   "cell_type": "raw",
   "metadata": {},
   "source": [
    "len(Output_list) == len(data)"
   ]
  },
  {
   "cell_type": "raw",
   "metadata": {},
   "source": [
    "data['coords'] = Output_list"
   ]
  },
  {
   "cell_type": "raw",
   "metadata": {},
   "source": [
    "data.head()"
   ]
  },
  {
   "cell_type": "raw",
   "metadata": {},
   "source": [
    "data.to_csv('Detroit_MSA_LaraPoints.csv')"
   ]
  },
  {
   "cell_type": "raw",
   "metadata": {},
   "source": [
    "foo = get_best_coords(data.Resident_addr ,GeoCode[-1])"
   ]
  },
  {
   "cell_type": "raw",
   "metadata": {},
   "source": [
    "def get_best_coords(AddressList, GeoCoder):\n",
    "    Output_list = []\n",
    "    # Create a point\n",
    "    point = ogr.Geometry(ogr.wkbPoint)\n",
    "    \n",
    "    for address in AddressList:\n",
    "        test_coords = geocoding.geocode(address, geocoder = GeoCoder)\n",
    "        \n",
    "        # Grab a list of scores from the test_coords\n",
    "        score = [x['score'] for x in test_coords]\n",
    "\n",
    "        # Use index of max score to create OGR Point object\n",
    "        point.AddPoint(test_coords[score.index(max(score))]['location']['x'],test_coords[score.index(max(score))]['location']['y'])\n",
    "        # Append new wkt point to output\n",
    "        Output_list.append(point.ExportToWkt())\n",
    "    return Output_list"
   ]
  },
  {
   "cell_type": "code",
   "execution_count": null,
   "metadata": {},
   "outputs": [],
   "source": []
  }
 ],
 "metadata": {
  "kernelspec": {
   "display_name": "Python 3",
   "language": "python",
   "name": "python3"
  },
  "language_info": {
   "codemirror_mode": {
    "name": "ipython",
    "version": 3
   },
   "file_extension": ".py",
   "mimetype": "text/x-python",
   "name": "python",
   "nbconvert_exporter": "python",
   "pygments_lexer": "ipython3",
   "version": "3.7.4"
  }
 },
 "nbformat": 4,
 "nbformat_minor": 4
}
