{
 "cells": [
  {
   "cell_type": "markdown",
   "metadata": {},
   "source": [
    "# Goals\n",
    "\n",
    "### Use this to Evaluate TIF and Tax Abatements\n",
    "\n",
    "#### STEP 1\n",
    " - Get all landing page info.\n",
    " - Most importantly:\n",
    "  - Address\n",
    "  - Name\n",
    "  - Business Type?\n",
    "  - Timeframe it operated\n",
    " - Also somewhat important. Get info into SQL. Query when it bombs & start where we left off"
   ]
  },
  {
   "cell_type": "markdown",
   "metadata": {},
   "source": [
    "### Original static script - landing page only\n",
    "\n",
    "This is the script that pulls from the indivdual page alone. Gets business info and officers"
   ]
  },
  {
   "cell_type": "code",
   "execution_count": 1,
   "metadata": {},
   "outputs": [],
   "source": [
    "import requests, os, time, sqlite3\n",
    "from bs4 import BeautifulSoup as bs\n",
    "from IPython.display import display, clear_output\n",
    "\n",
    "import pandas as pd\n",
    "\n",
    "os.chdir('C:\\\\Users\\\\stob1\\\\Desktop\\\\Incremental Detroit\\\\Data projects\\\\Lara_Scrape\\\\')\n",
    "\n",
    "db = 'LaraScrape.sqlite'\n"
   ]
  },
  {
   "cell_type": "code",
   "execution_count": 2,
   "metadata": {},
   "outputs": [],
   "source": [
    "def pageCompare(ID):\n",
    "    # Goal here is to plug this function into a loop for the range described above to copy records of all businesses \n",
    "    # available through this portal.\n",
    "    \n",
    "    baseLink = 'https://cofs.lara.state.mi.us/CorpWeb/CorpSearch/CorpSummary.aspx?ID='\n",
    "    \n",
    "    response = requests.get(baseLink + str(ID))\n",
    "    soup = bs(response.text, 'lxml')\n",
    "    message = soup.find(id = \"MainContent_lblMessage\")\n",
    "    \n",
    "    if message is None:\n",
    "        return soup\n",
    "\n",
    "def page_parse(page):\n",
    "    # create empty dict with needed names and keys to pull from page(columns)\n",
    "    catch = dict.fromkeys(Column_Names, [])\n",
    "    \n",
    "    for ID, name in zip(Column_IDs, Column_Names):\n",
    "        catch[name]= page.find(id=ID)\n",
    "        try:\n",
    "            catch[name] = catch[name].get_text()\n",
    "        except:\n",
    "            pass\n",
    "    return catch\n",
    "\n",
    "def Officer_parse(page):\n",
    "    # builds a separate table for officers\n",
    "    \n",
    "    # Grabs the html table - if it's there\n",
    "    tble = page.find(id = 'MainContent_grdOfficers')#'MainContent_tblOfficers') # MainContent_grdOfficers grid #\n",
    "    \n",
    "    rows = []\n",
    "    for x in tble.find_all('tr'):\n",
    "        cell =[cell.get_text() for cell in x.find_all('td')]\n",
    "        rows.append(cell)\n",
    "    \n",
    "    # purge any empty rows\n",
    "    rows = [x for x in rows if len(x) > 0]\n",
    "    \n",
    "    # put records into DF\n",
    "    df = pd.DataFrame.from_records(rows, columns = ['Title', 'Name', 'Address'])\n",
    "    \n",
    "    # Add Corp ID to every row in this DF\n",
    "    ID = page.find(id='MainContent_lblIDNumberHeader').get_text()\n",
    "    df['CorpID'] = ID\n",
    "    \n",
    "    with open('Lara_officers_Ordered.csv', 'a') as f:\n",
    "            df.to_sql('LaraOfficers', conn, if_exists = 'append', index = False) \n",
    "\n",
    "def get_last_ID(database, table):\n",
    "    # Grabs the last ID we left off with in a Database\n",
    "    try:\n",
    "        conn = sqlite3.connect(database)\n",
    "        c = conn.cursor()\n",
    "        c.execute('''SELECT ID_Number FROM '%s' ORDER BY ID_Number DESC LIMIT 1'''%(table))\n",
    "        last_ID = c.fetchall()\n",
    "        conn.close()\n",
    "        return int(last_ID[0][0])\n",
    "    except:\n",
    "        return 800000000                       "
   ]
  },
  {
   "cell_type": "code",
   "execution_count": 3,
   "metadata": {},
   "outputs": [],
   "source": [
    "Column_IDs = [\n",
    "    'MainContent_lblEntityName','MainContent_lblIDNumberHeader','MainContent_lblEntityType','MainContent_lblOrganisationDate','MainContent_lblTerm',\n",
    "    'MainContent_lblMostRecentAnnualReportYear','MainContent_lblInactiveDate','MainContent_tdRevivalDateText',\n",
    "    'MainContent_lblMostRecentAnnualReportWithOfficersAndDirectors','MainContent_lblResidentAgentName','MainContent_lblResidentStreet',\n",
    "    'MainContent_lblaptsuiteother','MainContent_lblResidentCity','MainContent_lblResidentState','MainContent_lblResidentZip','MainContent_lblPrincipleStreet',\n",
    "    'MainContent_lblaptsuiteotherlblpricipal','MainContent_lblPrincipleCity','MainContent_lblPrincipleState','MainContent_lblPrincipleZip',\n",
    "    'MainContent_lblActsFormedUnder','MainContent_lblSum','MainContent_txtComments']\n",
    "\n",
    "Column_Names = [\n",
    "    'EntityName','ID_Number','EntityType','OrganisationDate','Term','MostRecentAnnualReportYear','InactiveDate','RevivalDateText',\n",
    "    'MostRecentAnnualReportWithOfficersAndDirectors','ResidentAgentName','ResidentStreet','aptsuiteother','ResidentCity','ResidentState','ResidentZip',\n",
    "    'PrincipleStreet','aptsuiteotherlblpricipal','PrincipleCity','PrincipleState','PrincipleZip','ActsFormedUnder','Total_Auth_Shares','Comments']"
   ]
  },
  {
   "cell_type": "code",
   "execution_count": null,
   "metadata": {},
   "outputs": [
    {
     "data": {
      "text/plain": [
       "'Working on: 800083976'"
      ]
     },
     "metadata": {},
     "output_type": "display_data"
    }
   ],
   "source": [
    "# Start process\n",
    "page_ID = get_last_ID(db,'LaraBusiness')\n",
    "\n",
    "#page_ID = 123456\n",
    "\n",
    "print(page_ID)\n",
    "\n",
    "while page_ID <= 803000000:\n",
    "    # Set the begin at the ID we want to start at then rename that ID after every connection.\n",
    "    # Retry at failure    - Think Ill need to add a for loop for that.\n",
    "    #page_ID = get_last_ID(db,'LaraBusiness')\n",
    "    clear_output(wait=True)\n",
    "    display('Working on: '+str(page_ID))\n",
    "    try:\n",
    "        conn = sqlite3.connect(db)\n",
    "        page_content = pageCompare(page_ID)\n",
    "\n",
    "        if page_content is not None:\n",
    "\n",
    "            page_information = page_parse(page_content)\n",
    "\n",
    "            if page_content.find(id = 'MainContent_grdOfficers') is not None:\n",
    "                Officer_parse(page_content)\n",
    "\n",
    "            df = pd.DataFrame(page_information, index = [page_information['ID_Number']],columns = Column_Names)\n",
    "\n",
    "            df.to_sql('LaraBusiness', conn, if_exists = 'append', index = False)\n",
    "\n",
    "            # Sleep because it is commonly considered polite.\n",
    "            time.sleep(2) \n",
    "        page_ID += 1\n",
    "        conn.close()\n",
    "    except:\n",
    "        print('failure at -------- ' + str(page_ID))\n",
    "        time.sleep(30)\n",
    "        pass"
   ]
  }
 ],
 "metadata": {
  "kernelspec": {
   "display_name": "Python 3",
   "language": "python",
   "name": "python3"
  },
  "language_info": {
   "codemirror_mode": {
    "name": "ipython",
    "version": 3
   },
   "file_extension": ".py",
   "mimetype": "text/x-python",
   "name": "python",
   "nbconvert_exporter": "python",
   "pygments_lexer": "ipython3",
   "version": "3.7.3"
  }
 },
 "nbformat": 4,
 "nbformat_minor": 4
}
