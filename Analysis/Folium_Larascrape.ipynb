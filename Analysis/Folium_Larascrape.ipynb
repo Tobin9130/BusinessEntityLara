{
 "cells": [
  {
   "cell_type": "code",
   "execution_count": 1,
   "metadata": {},
   "outputs": [],
   "source": [
    "import folium\n",
    "import geopandas\n",
    "import pandas as pd\n",
    "\n",
    "from shapely import wkt\n",
    "\n",
    "businesses = pd.read_csv('C:\\\\Users\\\\tobins\\\\TaxDatabase\\\\Larascrape\\\\DetroitLaraPoints.csv')\n",
    "#businesses.head()"
   ]
  },
  {
   "cell_type": "code",
   "execution_count": 2,
   "metadata": {},
   "outputs": [
    {
     "data": {
      "text/plain": [
       "50"
      ]
     },
     "execution_count": 2,
     "metadata": {},
     "output_type": "execute_result"
    }
   ],
   "source": [
    "businesses['coords'] = businesses['coords'].apply(wkt.loads)\n",
    "\n",
    "businesses = businesses.sample(50)\n",
    "\n",
    "len(businesses)"
   ]
  },
  {
   "cell_type": "code",
   "execution_count": 3,
   "metadata": {},
   "outputs": [],
   "source": [
    "gdf = geopandas.GeoDataFrame(businesses, geometry='coords')\n",
    "gdf.to_file(\"countries.geojson\", driver='GeoJSON')"
   ]
  },
  {
   "cell_type": "code",
   "execution_count": 4,
   "metadata": {},
   "outputs": [
    {
     "data": {
      "text/plain": [
       "<folium.features.GeoJson at 0xaf69e80>"
      ]
     },
     "execution_count": 4,
     "metadata": {},
     "output_type": "execute_result"
    }
   ],
   "source": [
    "#Map with Folium\n",
    "CENTER = [42.3589544,-83.0655651]\n",
    "m = folium.Map(CENTER, zoom_start=12, tiles='cartodbpositron')\n",
    "folium.GeoJson(\"countries.geojson\").add_to(m)"
   ]
  },
  {
   "cell_type": "code",
   "execution_count": 5,
   "metadata": {},
   "outputs": [],
   "source": [
    "m.save('BusinessTest.html')"
   ]
  },
  {
   "cell_type": "code",
   "execution_count": null,
   "metadata": {},
   "outputs": [],
   "source": []
  }
 ],
 "metadata": {
  "kernelspec": {
   "display_name": "Python 3",
   "language": "python",
   "name": "python3"
  },
  "language_info": {
   "codemirror_mode": {
    "name": "ipython",
    "version": 3
   },
   "file_extension": ".py",
   "mimetype": "text/x-python",
   "name": "python",
   "nbconvert_exporter": "python",
   "pygments_lexer": "ipython3",
   "version": "3.7.3"
  }
 },
 "nbformat": 4,
 "nbformat_minor": 4
}
